{
  "cells": [
    {
      "cell_type": "markdown",
      "id": "19e6fa54",
      "metadata": {
        "id": "19e6fa54"
      },
      "source": [
        "The following additional libraries are needed to run this\n",
        "notebook. Note that running on Colab is experimental, please report a Github\n",
        "issue if you have any problem."
      ]
    },
    {
      "cell_type": "code",
      "execution_count": 1,
      "id": "fa158e8e",
      "metadata": {
        "id": "fa158e8e",
        "outputId": "4e1154ca-44cd-4ae0-fa54-9931a063e8cb",
        "colab": {
          "base_uri": "https://localhost:8080/"
        }
      },
      "outputs": [
        {
          "output_type": "stream",
          "name": "stdout",
          "text": [
            "fatal: destination path 'd2l-zh' already exists and is not an empty directory.\n"
          ]
        }
      ],
      "source": [
        "!git clone https://github.com/d2l-ai/d2l-zh.git\n",
        "import sys\n",
        "sys.path.append('/content/d2l-zh')"
      ]
    },
    {
      "cell_type": "markdown",
      "id": "099f849e",
      "metadata": {
        "origin_pos": 0,
        "id": "099f849e"
      },
      "source": [
        "# 预训练BERT\n",
        ":label:`sec_bert-pretraining`\n",
        "\n",
        "利用 :numref:`sec_bert`中实现的BERT模型和 :numref:`sec_bert-dataset`中从WikiText-2数据集生成的预训练样本，我们将在本节中在WikiText-2数据集上对BERT进行预训练。\n"
      ]
    },
    {
      "cell_type": "code",
      "execution_count": 2,
      "id": "8c0979b7",
      "metadata": {
        "execution": {
          "iopub.execute_input": "2023-08-18T07:04:26.170037Z",
          "iopub.status.busy": "2023-08-18T07:04:26.168910Z",
          "iopub.status.idle": "2023-08-18T07:04:28.547324Z",
          "shell.execute_reply": "2023-08-18T07:04:28.546158Z"
        },
        "origin_pos": 2,
        "tab": [
          "pytorch"
        ],
        "id": "8c0979b7"
      },
      "outputs": [],
      "source": [
        "import torch\n",
        "from torch import nn\n",
        "from d2l import torch as d2l"
      ]
    },
    {
      "cell_type": "markdown",
      "id": "898d6f91",
      "metadata": {
        "origin_pos": 4,
        "id": "898d6f91"
      },
      "source": [
        "首先，我们加载WikiText-2数据集作为小批量的预训练样本，用于遮蔽语言模型和下一句预测。批量大小是512，BERT输入序列的最大长度是64。注意，在原始BERT模型中，最大长度是512。\n"
      ]
    },
    {
      "cell_type": "code",
      "execution_count": 3,
      "id": "95571e6a",
      "metadata": {
        "execution": {
          "iopub.execute_input": "2023-08-18T07:04:28.552742Z",
          "iopub.status.busy": "2023-08-18T07:04:28.552374Z",
          "iopub.status.idle": "2023-08-18T07:04:38.456343Z",
          "shell.execute_reply": "2023-08-18T07:04:38.455141Z"
        },
        "origin_pos": 5,
        "tab": [
          "pytorch"
        ],
        "id": "95571e6a",
        "outputId": "d7eb2364-c1cf-4dd5-bee7-22381c4960e5",
        "colab": {
          "base_uri": "https://localhost:8080/"
        }
      },
      "outputs": [
        {
          "output_type": "stream",
          "name": "stdout",
          "text": [
            "Index(['text'], dtype='object')\n",
            "reading\n",
            "done\n",
            "<d2l.torch.Vocab object at 0x797eb4087fe0>\n"
          ]
        }
      ],
      "source": [
        "import pandas as pd, random\n",
        "\n",
        "def _read_wiki(data_dir):\n",
        "    # data_dir: 你下载的 train-00000-of-00001.parquet 的路径\n",
        "    df = pd.read_parquet(data_dir)\n",
        "    print(df.columns)\n",
        "\n",
        "    # 取出文本列\n",
        "    lines = df['text'].tolist()\n",
        "    print(\"reading\")\n",
        "\n",
        "    # 对每一段文本分句（用 “ . ” 作为分隔符），并过滤掉太短的行\n",
        "    paragraphs = [line.strip().lower().split(' . ')\n",
        "                  for line in lines if len(line.split(' . ')) >= 2]\n",
        "    random.shuffle(paragraphs)  # 打乱段落顺序\n",
        "    return paragraphs\n",
        "\n",
        "def load_data_wiki(batch_size, max_len):\n",
        "    \"\"\"加载 WikiText 数据集\"\"\"\n",
        "    num_workers = d2l.get_dataloader_workers()\n",
        "    paragraphs = _read_wiki(\"train-00000-of-00001.parquet\")\n",
        "\n",
        "    # 用 D2L 提供的 WikiText 数据集类封装\n",
        "    train_set = d2l._WikiTextDataset(paragraphs, max_len)\n",
        "    train_iter = torch.utils.data.DataLoader(\n",
        "        train_set, batch_size, shuffle=True, num_workers=0)\n",
        "    print(\"done\")\n",
        "\n",
        "    print(train_set.vocab)\n",
        "    return train_iter, train_set.vocab\n",
        "\n",
        "\n",
        "batch_size, max_len = 512, 64\n",
        "train_iter, vocab = load_data_wiki(batch_size, max_len)"
      ]
    },
    {
      "cell_type": "markdown",
      "id": "cfb22b86",
      "metadata": {
        "origin_pos": 7,
        "id": "cfb22b86"
      },
      "source": [
        "## 预训练BERT\n",
        "\n",
        "原始BERT :cite:`Devlin.Chang.Lee.ea.2018`有两个不同模型尺寸的版本。基本模型（$\\text{BERT}_{\\text{BASE}}$）使用12层（Transformer编码器块），768个隐藏单元（隐藏大小）和12个自注意头。大模型（$\\text{BERT}_{\\text{LARGE}}$）使用24层，1024个隐藏单元和16个自注意头。值得注意的是，前者有1.1亿个参数，后者有3.4亿个参数。为了便于演示，我们定义了一个小的BERT，使用了2层、128个隐藏单元和2个自注意头。\n"
      ]
    },
    {
      "cell_type": "code",
      "execution_count": 4,
      "id": "3cc34825",
      "metadata": {
        "execution": {
          "iopub.execute_input": "2023-08-18T07:04:38.461166Z",
          "iopub.status.busy": "2023-08-18T07:04:38.460802Z",
          "iopub.status.idle": "2023-08-18T07:04:38.581653Z",
          "shell.execute_reply": "2023-08-18T07:04:38.580139Z"
        },
        "origin_pos": 9,
        "tab": [
          "pytorch"
        ],
        "id": "3cc34825"
      },
      "outputs": [],
      "source": [
        "net = d2l.BERTModel(len(vocab), num_hiddens=128, norm_shape=[128],\n",
        "                    ffn_num_input=128, ffn_num_hiddens=256, num_heads=2,\n",
        "                    num_layers=2, dropout=0.2, key_size=128, query_size=128,\n",
        "                    value_size=128, hid_in_features=128, mlm_in_features=128,\n",
        "                    nsp_in_features=128)\n",
        "devices = d2l.try_all_gpus()\n",
        "loss = nn.CrossEntropyLoss(reduction='none')"
      ]
    },
    {
      "cell_type": "markdown",
      "id": "be063421",
      "metadata": {
        "origin_pos": 10,
        "id": "be063421"
      },
      "source": [
        "在定义训练代码实现之前，我们定义了一个辅助函数`_get_batch_loss_bert`。给定训练样本，该函数计算遮蔽语言模型和下一句子预测任务的损失。请注意，BERT预训练的最终损失是遮蔽语言模型损失和下一句预测损失的和。\n"
      ]
    },
    {
      "cell_type": "code",
      "execution_count": 5,
      "id": "64b2c84b",
      "metadata": {
        "execution": {
          "iopub.execute_input": "2023-08-18T07:04:38.586837Z",
          "iopub.status.busy": "2023-08-18T07:04:38.585868Z",
          "iopub.status.idle": "2023-08-18T07:04:38.594572Z",
          "shell.execute_reply": "2023-08-18T07:04:38.593478Z"
        },
        "origin_pos": 12,
        "tab": [
          "pytorch"
        ],
        "id": "64b2c84b"
      },
      "outputs": [],
      "source": [
        "#@save\n",
        "# note: 原本D2L的loss代码有问题。应该改成None 然后后续的mlm_weights_X不应该是reshape(-1,1)而是reshape(-1)。然后nsp的loss加一个mean\n",
        "\"\"\"\n",
        "tokens_X\t(batch_size, max_len)\tpadding 后的 token 序列\n",
        "segments_X\t(batch_size, max_len)\tpadding后的segment 序列\n",
        "valid_lens_x\t(batch_size,)\t每个句子的真实长度\n",
        "pred_positions_X\t(batch_size, max_num_mlm_preds)\tMLM mask 位置\n",
        "mlm_weights_X\t(batch_size, max_num_mlm_preds)\tMLM 权重（0/1） 作用：用于忽略 padding\n",
        "\"\"\"\n",
        "def _get_batch_loss_bert(net, loss, vocab_size, tokens_X,\n",
        "                         segments_X, valid_lens_x,\n",
        "                         pred_positions_X, mlm_weights_X,\n",
        "                         mlm_Y, nsp_y):\n",
        "    # 前向传播\n",
        "    \"\"\"\n",
        "    recall：\n",
        "    第一个是Bert的encoder的输出，shape(b,seq_len,dim)。在预训练的时候这个不需要了\n",
        "    第二个：mlm_Y_hat：（b,max_num_mlm_preds,voc_size）值是logit\n",
        "    第三个：nsp_Y_hat:(b,2) 值是logit\n",
        "    \"\"\"\n",
        "    _, mlm_Y_hat, nsp_Y_hat = net(tokens_X, segments_X,\n",
        "                                  valid_lens_x.reshape(-1),\n",
        "                                  pred_positions_X)\n",
        "    # 计算遮蔽语言模型损失\n",
        "    mlm_l = loss(\n",
        "        mlm_Y_hat.reshape(-1, vocab_size),  # (b*mp, V)\n",
        "        mlm_Y.reshape(-1)   #(b*mp,)\n",
        "        )  # (b*mp,)\n",
        "    mlm_l = mlm_l *  mlm_weights_X.reshape(-1) #乘以的shape是(b*mp,) 因为每一个tokens即每一个句子对长度不一致。\n",
        "        # 但是mask的数量是未padding的token长度的0.15，因此我们当时把它padding成统一的max_num_mlm_preds\n",
        "        # 因此如果这个是padding的应该*0 即不计入loss中\n",
        "    # mlm_l在计算loss后的shape是(b*mp,)\n",
        "\n",
        "    mlm_l = mlm_l.sum() / (mlm_weights_X.sum() + 1e-8) # scaler 每一个token的损失\n",
        "    # 计算下一句子预测任务的损失\n",
        "    nsp_l = loss(nsp_Y_hat, nsp_y).mean()  # 前者(b,2) 后者(b,)最终nsp_l是(b,) 然后求mean变成scalar\n",
        "    l = mlm_l + nsp_l # 两个scalar相加\n",
        "    return mlm_l, nsp_l, l"
      ]
    },
    {
      "cell_type": "markdown",
      "id": "4e553304",
      "metadata": {
        "origin_pos": 14,
        "id": "4e553304"
      },
      "source": [
        "通过调用上述两个辅助函数，下面的`train_bert`函数定义了在WikiText-2（`train_iter`）数据集上预训练BERT（`net`）的过程。训练BERT可能需要很长时间。以下函数的输入`num_steps`指定了训练的迭代步数，而不是像`train_ch13`函数那样指定训练的轮数（参见 :numref:`sec_image_augmentation`）。\n"
      ]
    },
    {
      "cell_type": "code",
      "execution_count": 6,
      "id": "6cd43502",
      "metadata": {
        "execution": {
          "iopub.execute_input": "2023-08-18T07:04:38.599431Z",
          "iopub.status.busy": "2023-08-18T07:04:38.598650Z",
          "iopub.status.idle": "2023-08-18T07:04:38.614756Z",
          "shell.execute_reply": "2023-08-18T07:04:38.613328Z"
        },
        "origin_pos": 16,
        "tab": [
          "pytorch"
        ],
        "id": "6cd43502"
      },
      "outputs": [],
      "source": [
        "def train_bert(train_iter, net, loss, vocab_size, devices, num_steps):\n",
        "    net = nn.DataParallel(net, device_ids=devices).to(devices[0])\n",
        "    trainer = torch.optim.Adam(net.parameters(), lr=0.01)\n",
        "    step, timer = 0, d2l.Timer()\n",
        "    animator = d2l.Animator(xlabel='step', ylabel='loss',\n",
        "                            xlim=[1, num_steps], legend=['mlm', 'nsp'])\n",
        "    # 遮蔽语言模型损失的和，下一句预测任务损失的和，句子对的数量，计数\n",
        "    metric = d2l.Accumulator(4)\n",
        "    num_steps_reached = False\n",
        "    while step < num_steps and not num_steps_reached:\n",
        "        for tokens_X, segments_X, valid_lens_x, pred_positions_X,\\\n",
        "            mlm_weights_X, mlm_Y, nsp_y in train_iter:\n",
        "            tokens_X = tokens_X.to(devices[0])\n",
        "            segments_X = segments_X.to(devices[0])\n",
        "            valid_lens_x = valid_lens_x.to(devices[0])\n",
        "            pred_positions_X = pred_positions_X.to(devices[0])\n",
        "            mlm_weights_X = mlm_weights_X.to(devices[0])\n",
        "            mlm_Y, nsp_y = mlm_Y.to(devices[0]), nsp_y.to(devices[0])\n",
        "            trainer.zero_grad()\n",
        "            timer.start()\n",
        "            mlm_l, nsp_l, l = _get_batch_loss_bert(\n",
        "                net, loss, vocab_size, tokens_X, segments_X, valid_lens_x,\n",
        "                pred_positions_X, mlm_weights_X, mlm_Y, nsp_y)\n",
        "            l.backward()\n",
        "            trainer.step()\n",
        "            metric.add(mlm_l, nsp_l, tokens_X.shape[0], 1)\n",
        "            timer.stop()\n",
        "            animator.add(step + 1,\n",
        "                         (metric[0] / metric[3], metric[1] / metric[3]))\n",
        "            step += 1\n",
        "            if step == num_steps:\n",
        "                num_steps_reached = True\n",
        "                break\n",
        "\n",
        "    print(f'MLM loss {metric[0] / metric[3]:.3f}, '\n",
        "          f'NSP loss {metric[1] / metric[3]:.3f}')\n",
        "    print(f'{metric[2] / timer.sum():.1f} sentence pairs/sec on '\n",
        "          f'{str(devices)}')"
      ]
    },
    {
      "cell_type": "markdown",
      "id": "08640bff",
      "metadata": {
        "origin_pos": 18,
        "id": "08640bff"
      },
      "source": [
        "在预训练过程中，我们可以绘制出遮蔽语言模型损失和下一句预测损失。\n"
      ]
    },
    {
      "cell_type": "code",
      "execution_count": 7,
      "id": "35e856a0",
      "metadata": {
        "execution": {
          "iopub.execute_input": "2023-08-18T07:04:38.619952Z",
          "iopub.status.busy": "2023-08-18T07:04:38.619192Z",
          "iopub.status.idle": "2023-08-18T07:05:00.659514Z",
          "shell.execute_reply": "2023-08-18T07:05:00.658404Z"
        },
        "origin_pos": 19,
        "tab": [
          "pytorch"
        ],
        "id": "35e856a0",
        "outputId": "3c56cf4e-04a1-4880-e329-4ecea898b933",
        "colab": {
          "base_uri": "https://localhost:8080/",
          "height": 302
        }
      },
      "outputs": [
        {
          "output_type": "stream",
          "name": "stdout",
          "text": [
            "MLM loss 7.315, NSP loss 0.781\n",
            "6283.4 sentence pairs/sec on [device(type='cuda', index=0)]\n"
          ]
        },
        {
          "output_type": "display_data",
          "data": {
            "text/plain": [
              "<Figure size 350x250 with 1 Axes>"
            ],
            "image/svg+xml": "<?xml version=\"1.0\" encoding=\"utf-8\" standalone=\"no\"?>\n<!DOCTYPE svg PUBLIC \"-//W3C//DTD SVG 1.1//EN\"\n  \"http://www.w3.org/Graphics/SVG/1.1/DTD/svg11.dtd\">\n<svg xmlns:xlink=\"http://www.w3.org/1999/xlink\" width=\"249.465625pt\" height=\"183.35625pt\" viewBox=\"0 0 249.465625 183.35625\" xmlns=\"http://www.w3.org/2000/svg\" version=\"1.1\">\n <metadata>\n  <rdf:RDF xmlns:dc=\"http://purl.org/dc/elements/1.1/\" xmlns:cc=\"http://creativecommons.org/ns#\" xmlns:rdf=\"http://www.w3.org/1999/02/22-rdf-syntax-ns#\">\n   <cc:Work>\n    <dc:type rdf:resource=\"http://purl.org/dc/dcmitype/StillImage\"/>\n    <dc:date>2025-10-24T20:53:39.808304</dc:date>\n    <dc:format>image/svg+xml</dc:format>\n    <dc:creator>\n     <cc:Agent>\n      <dc:title>Matplotlib v3.10.0, https://matplotlib.org/</dc:title>\n     </cc:Agent>\n    </dc:creator>\n   </cc:Work>\n  </rdf:RDF>\n </metadata>\n <defs>\n  <style type=\"text/css\">*{stroke-linejoin: round; stroke-linecap: butt}</style>\n </defs>\n <g id=\"figure_1\">\n  <g id=\"patch_1\">\n   <path d=\"M 0 183.35625 \nL 249.465625 183.35625 \nL 249.465625 0 \nL 0 0 \nz\n\" style=\"fill: #ffffff\"/>\n  </g>\n  <g id=\"axes_1\">\n   <g id=\"patch_2\">\n    <path d=\"M 40.603125 145.8 \nL 235.903125 145.8 \nL 235.903125 7.2 \nL 40.603125 7.2 \nz\n\" style=\"fill: #ffffff\"/>\n   </g>\n   <g id=\"matplotlib.axis_1\">\n    <g id=\"xtick_1\">\n     <g id=\"line2d_1\">\n      <path d=\"M 76.474554 145.8 \nL 76.474554 7.2 \n\" clip-path=\"url(#p63e9408b2e)\" style=\"fill: none; stroke: #b0b0b0; stroke-width: 0.8; stroke-linecap: square\"/>\n     </g>\n     <g id=\"line2d_2\">\n      <defs>\n       <path id=\"mae21714ab3\" d=\"M 0 0 \nL 0 3.5 \n\" style=\"stroke: #000000; stroke-width: 0.8\"/>\n      </defs>\n      <g>\n       <use xlink:href=\"#mae21714ab3\" x=\"76.474554\" y=\"145.8\" style=\"stroke: #000000; stroke-width: 0.8\"/>\n      </g>\n     </g>\n     <g id=\"text_1\">\n      <!-- 10 -->\n      <g transform=\"translate(70.112054 160.398438) scale(0.1 -0.1)\">\n       <defs>\n        <path id=\"DejaVuSans-31\" d=\"M 794 531 \nL 1825 531 \nL 1825 4091 \nL 703 3866 \nL 703 4441 \nL 1819 4666 \nL 2450 4666 \nL 2450 531 \nL 3481 531 \nL 3481 0 \nL 794 0 \nL 794 531 \nz\n\" transform=\"scale(0.015625)\"/>\n        <path id=\"DejaVuSans-30\" d=\"M 2034 4250 \nQ 1547 4250 1301 3770 \nQ 1056 3291 1056 2328 \nQ 1056 1369 1301 889 \nQ 1547 409 2034 409 \nQ 2525 409 2770 889 \nQ 3016 1369 3016 2328 \nQ 3016 3291 2770 3770 \nQ 2525 4250 2034 4250 \nz\nM 2034 4750 \nQ 2819 4750 3233 4129 \nQ 3647 3509 3647 2328 \nQ 3647 1150 3233 529 \nQ 2819 -91 2034 -91 \nQ 1250 -91 836 529 \nQ 422 1150 422 2328 \nQ 422 3509 836 4129 \nQ 1250 4750 2034 4750 \nz\n\" transform=\"scale(0.015625)\"/>\n       </defs>\n       <use xlink:href=\"#DejaVuSans-31\"/>\n       <use xlink:href=\"#DejaVuSans-30\" transform=\"translate(63.623047 0)\"/>\n      </g>\n     </g>\n    </g>\n    <g id=\"xtick_2\">\n     <g id=\"line2d_3\">\n      <path d=\"M 116.331696 145.8 \nL 116.331696 7.2 \n\" clip-path=\"url(#p63e9408b2e)\" style=\"fill: none; stroke: #b0b0b0; stroke-width: 0.8; stroke-linecap: square\"/>\n     </g>\n     <g id=\"line2d_4\">\n      <g>\n       <use xlink:href=\"#mae21714ab3\" x=\"116.331696\" y=\"145.8\" style=\"stroke: #000000; stroke-width: 0.8\"/>\n      </g>\n     </g>\n     <g id=\"text_2\">\n      <!-- 20 -->\n      <g transform=\"translate(109.969196 160.398438) scale(0.1 -0.1)\">\n       <defs>\n        <path id=\"DejaVuSans-32\" d=\"M 1228 531 \nL 3431 531 \nL 3431 0 \nL 469 0 \nL 469 531 \nQ 828 903 1448 1529 \nQ 2069 2156 2228 2338 \nQ 2531 2678 2651 2914 \nQ 2772 3150 2772 3378 \nQ 2772 3750 2511 3984 \nQ 2250 4219 1831 4219 \nQ 1534 4219 1204 4116 \nQ 875 4013 500 3803 \nL 500 4441 \nQ 881 4594 1212 4672 \nQ 1544 4750 1819 4750 \nQ 2544 4750 2975 4387 \nQ 3406 4025 3406 3419 \nQ 3406 3131 3298 2873 \nQ 3191 2616 2906 2266 \nQ 2828 2175 2409 1742 \nQ 1991 1309 1228 531 \nz\n\" transform=\"scale(0.015625)\"/>\n       </defs>\n       <use xlink:href=\"#DejaVuSans-32\"/>\n       <use xlink:href=\"#DejaVuSans-30\" transform=\"translate(63.623047 0)\"/>\n      </g>\n     </g>\n    </g>\n    <g id=\"xtick_3\">\n     <g id=\"line2d_5\">\n      <path d=\"M 156.188839 145.8 \nL 156.188839 7.2 \n\" clip-path=\"url(#p63e9408b2e)\" style=\"fill: none; stroke: #b0b0b0; stroke-width: 0.8; stroke-linecap: square\"/>\n     </g>\n     <g id=\"line2d_6\">\n      <g>\n       <use xlink:href=\"#mae21714ab3\" x=\"156.188839\" y=\"145.8\" style=\"stroke: #000000; stroke-width: 0.8\"/>\n      </g>\n     </g>\n     <g id=\"text_3\">\n      <!-- 30 -->\n      <g transform=\"translate(149.826339 160.398438) scale(0.1 -0.1)\">\n       <defs>\n        <path id=\"DejaVuSans-33\" d=\"M 2597 2516 \nQ 3050 2419 3304 2112 \nQ 3559 1806 3559 1356 \nQ 3559 666 3084 287 \nQ 2609 -91 1734 -91 \nQ 1441 -91 1130 -33 \nQ 819 25 488 141 \nL 488 750 \nQ 750 597 1062 519 \nQ 1375 441 1716 441 \nQ 2309 441 2620 675 \nQ 2931 909 2931 1356 \nQ 2931 1769 2642 2001 \nQ 2353 2234 1838 2234 \nL 1294 2234 \nL 1294 2753 \nL 1863 2753 \nQ 2328 2753 2575 2939 \nQ 2822 3125 2822 3475 \nQ 2822 3834 2567 4026 \nQ 2313 4219 1838 4219 \nQ 1578 4219 1281 4162 \nQ 984 4106 628 3988 \nL 628 4550 \nQ 988 4650 1302 4700 \nQ 1616 4750 1894 4750 \nQ 2613 4750 3031 4423 \nQ 3450 4097 3450 3541 \nQ 3450 3153 3228 2886 \nQ 3006 2619 2597 2516 \nz\n\" transform=\"scale(0.015625)\"/>\n       </defs>\n       <use xlink:href=\"#DejaVuSans-33\"/>\n       <use xlink:href=\"#DejaVuSans-30\" transform=\"translate(63.623047 0)\"/>\n      </g>\n     </g>\n    </g>\n    <g id=\"xtick_4\">\n     <g id=\"line2d_7\">\n      <path d=\"M 196.045982 145.8 \nL 196.045982 7.2 \n\" clip-path=\"url(#p63e9408b2e)\" style=\"fill: none; stroke: #b0b0b0; stroke-width: 0.8; stroke-linecap: square\"/>\n     </g>\n     <g id=\"line2d_8\">\n      <g>\n       <use xlink:href=\"#mae21714ab3\" x=\"196.045982\" y=\"145.8\" style=\"stroke: #000000; stroke-width: 0.8\"/>\n      </g>\n     </g>\n     <g id=\"text_4\">\n      <!-- 40 -->\n      <g transform=\"translate(189.683482 160.398438) scale(0.1 -0.1)\">\n       <defs>\n        <path id=\"DejaVuSans-34\" d=\"M 2419 4116 \nL 825 1625 \nL 2419 1625 \nL 2419 4116 \nz\nM 2253 4666 \nL 3047 4666 \nL 3047 1625 \nL 3713 1625 \nL 3713 1100 \nL 3047 1100 \nL 3047 0 \nL 2419 0 \nL 2419 1100 \nL 313 1100 \nL 313 1709 \nL 2253 4666 \nz\n\" transform=\"scale(0.015625)\"/>\n       </defs>\n       <use xlink:href=\"#DejaVuSans-34\"/>\n       <use xlink:href=\"#DejaVuSans-30\" transform=\"translate(63.623047 0)\"/>\n      </g>\n     </g>\n    </g>\n    <g id=\"xtick_5\">\n     <g id=\"line2d_9\">\n      <path d=\"M 235.903125 145.8 \nL 235.903125 7.2 \n\" clip-path=\"url(#p63e9408b2e)\" style=\"fill: none; stroke: #b0b0b0; stroke-width: 0.8; stroke-linecap: square\"/>\n     </g>\n     <g id=\"line2d_10\">\n      <g>\n       <use xlink:href=\"#mae21714ab3\" x=\"235.903125\" y=\"145.8\" style=\"stroke: #000000; stroke-width: 0.8\"/>\n      </g>\n     </g>\n     <g id=\"text_5\">\n      <!-- 50 -->\n      <g transform=\"translate(229.540625 160.398438) scale(0.1 -0.1)\">\n       <defs>\n        <path id=\"DejaVuSans-35\" d=\"M 691 4666 \nL 3169 4666 \nL 3169 4134 \nL 1269 4134 \nL 1269 2991 \nQ 1406 3038 1543 3061 \nQ 1681 3084 1819 3084 \nQ 2600 3084 3056 2656 \nQ 3513 2228 3513 1497 \nQ 3513 744 3044 326 \nQ 2575 -91 1722 -91 \nQ 1428 -91 1123 -41 \nQ 819 9 494 109 \nL 494 744 \nQ 775 591 1075 516 \nQ 1375 441 1709 441 \nQ 2250 441 2565 725 \nQ 2881 1009 2881 1497 \nQ 2881 1984 2565 2268 \nQ 2250 2553 1709 2553 \nQ 1456 2553 1204 2497 \nQ 953 2441 691 2322 \nL 691 4666 \nz\n\" transform=\"scale(0.015625)\"/>\n       </defs>\n       <use xlink:href=\"#DejaVuSans-35\"/>\n       <use xlink:href=\"#DejaVuSans-30\" transform=\"translate(63.623047 0)\"/>\n      </g>\n     </g>\n    </g>\n    <g id=\"text_6\">\n     <!-- step -->\n     <g transform=\"translate(127.4375 174.076563) scale(0.1 -0.1)\">\n      <defs>\n       <path id=\"DejaVuSans-73\" d=\"M 2834 3397 \nL 2834 2853 \nQ 2591 2978 2328 3040 \nQ 2066 3103 1784 3103 \nQ 1356 3103 1142 2972 \nQ 928 2841 928 2578 \nQ 928 2378 1081 2264 \nQ 1234 2150 1697 2047 \nL 1894 2003 \nQ 2506 1872 2764 1633 \nQ 3022 1394 3022 966 \nQ 3022 478 2636 193 \nQ 2250 -91 1575 -91 \nQ 1294 -91 989 -36 \nQ 684 19 347 128 \nL 347 722 \nQ 666 556 975 473 \nQ 1284 391 1588 391 \nQ 1994 391 2212 530 \nQ 2431 669 2431 922 \nQ 2431 1156 2273 1281 \nQ 2116 1406 1581 1522 \nL 1381 1569 \nQ 847 1681 609 1914 \nQ 372 2147 372 2553 \nQ 372 3047 722 3315 \nQ 1072 3584 1716 3584 \nQ 2034 3584 2315 3537 \nQ 2597 3491 2834 3397 \nz\n\" transform=\"scale(0.015625)\"/>\n       <path id=\"DejaVuSans-74\" d=\"M 1172 4494 \nL 1172 3500 \nL 2356 3500 \nL 2356 3053 \nL 1172 3053 \nL 1172 1153 \nQ 1172 725 1289 603 \nQ 1406 481 1766 481 \nL 2356 481 \nL 2356 0 \nL 1766 0 \nQ 1100 0 847 248 \nQ 594 497 594 1153 \nL 594 3053 \nL 172 3053 \nL 172 3500 \nL 594 3500 \nL 594 4494 \nL 1172 4494 \nz\n\" transform=\"scale(0.015625)\"/>\n       <path id=\"DejaVuSans-65\" d=\"M 3597 1894 \nL 3597 1613 \nL 953 1613 \nQ 991 1019 1311 708 \nQ 1631 397 2203 397 \nQ 2534 397 2845 478 \nQ 3156 559 3463 722 \nL 3463 178 \nQ 3153 47 2828 -22 \nQ 2503 -91 2169 -91 \nQ 1331 -91 842 396 \nQ 353 884 353 1716 \nQ 353 2575 817 3079 \nQ 1281 3584 2069 3584 \nQ 2775 3584 3186 3129 \nQ 3597 2675 3597 1894 \nz\nM 3022 2063 \nQ 3016 2534 2758 2815 \nQ 2500 3097 2075 3097 \nQ 1594 3097 1305 2825 \nQ 1016 2553 972 2059 \nL 3022 2063 \nz\n\" transform=\"scale(0.015625)\"/>\n       <path id=\"DejaVuSans-70\" d=\"M 1159 525 \nL 1159 -1331 \nL 581 -1331 \nL 581 3500 \nL 1159 3500 \nL 1159 2969 \nQ 1341 3281 1617 3432 \nQ 1894 3584 2278 3584 \nQ 2916 3584 3314 3078 \nQ 3713 2572 3713 1747 \nQ 3713 922 3314 415 \nQ 2916 -91 2278 -91 \nQ 1894 -91 1617 61 \nQ 1341 213 1159 525 \nz\nM 3116 1747 \nQ 3116 2381 2855 2742 \nQ 2594 3103 2138 3103 \nQ 1681 3103 1420 2742 \nQ 1159 2381 1159 1747 \nQ 1159 1113 1420 752 \nQ 1681 391 2138 391 \nQ 2594 391 2855 752 \nQ 3116 1113 3116 1747 \nz\n\" transform=\"scale(0.015625)\"/>\n      </defs>\n      <use xlink:href=\"#DejaVuSans-73\"/>\n      <use xlink:href=\"#DejaVuSans-74\" transform=\"translate(52.099609 0)\"/>\n      <use xlink:href=\"#DejaVuSans-65\" transform=\"translate(91.308594 0)\"/>\n      <use xlink:href=\"#DejaVuSans-70\" transform=\"translate(152.832031 0)\"/>\n     </g>\n    </g>\n   </g>\n   <g id=\"matplotlib.axis_2\">\n    <g id=\"ytick_1\">\n     <g id=\"line2d_11\">\n      <path d=\"M 40.603125 121.959319 \nL 235.903125 121.959319 \n\" clip-path=\"url(#p63e9408b2e)\" style=\"fill: none; stroke: #b0b0b0; stroke-width: 0.8; stroke-linecap: square\"/>\n     </g>\n     <g id=\"line2d_12\">\n      <defs>\n       <path id=\"m99b4d28694\" d=\"M 0 0 \nL -3.5 0 \n\" style=\"stroke: #000000; stroke-width: 0.8\"/>\n      </defs>\n      <g>\n       <use xlink:href=\"#m99b4d28694\" x=\"40.603125\" y=\"121.959319\" style=\"stroke: #000000; stroke-width: 0.8\"/>\n      </g>\n     </g>\n     <g id=\"text_7\">\n      <!-- 2 -->\n      <g transform=\"translate(27.240625 125.758538) scale(0.1 -0.1)\">\n       <use xlink:href=\"#DejaVuSans-32\"/>\n      </g>\n     </g>\n    </g>\n    <g id=\"ytick_2\">\n     <g id=\"line2d_13\">\n      <path d=\"M 40.603125 95.125365 \nL 235.903125 95.125365 \n\" clip-path=\"url(#p63e9408b2e)\" style=\"fill: none; stroke: #b0b0b0; stroke-width: 0.8; stroke-linecap: square\"/>\n     </g>\n     <g id=\"line2d_14\">\n      <g>\n       <use xlink:href=\"#m99b4d28694\" x=\"40.603125\" y=\"95.125365\" style=\"stroke: #000000; stroke-width: 0.8\"/>\n      </g>\n     </g>\n     <g id=\"text_8\">\n      <!-- 4 -->\n      <g transform=\"translate(27.240625 98.924584) scale(0.1 -0.1)\">\n       <use xlink:href=\"#DejaVuSans-34\"/>\n      </g>\n     </g>\n    </g>\n    <g id=\"ytick_3\">\n     <g id=\"line2d_15\">\n      <path d=\"M 40.603125 68.291411 \nL 235.903125 68.291411 \n\" clip-path=\"url(#p63e9408b2e)\" style=\"fill: none; stroke: #b0b0b0; stroke-width: 0.8; stroke-linecap: square\"/>\n     </g>\n     <g id=\"line2d_16\">\n      <g>\n       <use xlink:href=\"#m99b4d28694\" x=\"40.603125\" y=\"68.291411\" style=\"stroke: #000000; stroke-width: 0.8\"/>\n      </g>\n     </g>\n     <g id=\"text_9\">\n      <!-- 6 -->\n      <g transform=\"translate(27.240625 72.09063) scale(0.1 -0.1)\">\n       <defs>\n        <path id=\"DejaVuSans-36\" d=\"M 2113 2584 \nQ 1688 2584 1439 2293 \nQ 1191 2003 1191 1497 \nQ 1191 994 1439 701 \nQ 1688 409 2113 409 \nQ 2538 409 2786 701 \nQ 3034 994 3034 1497 \nQ 3034 2003 2786 2293 \nQ 2538 2584 2113 2584 \nz\nM 3366 4563 \nL 3366 3988 \nQ 3128 4100 2886 4159 \nQ 2644 4219 2406 4219 \nQ 1781 4219 1451 3797 \nQ 1122 3375 1075 2522 \nQ 1259 2794 1537 2939 \nQ 1816 3084 2150 3084 \nQ 2853 3084 3261 2657 \nQ 3669 2231 3669 1497 \nQ 3669 778 3244 343 \nQ 2819 -91 2113 -91 \nQ 1303 -91 875 529 \nQ 447 1150 447 2328 \nQ 447 3434 972 4092 \nQ 1497 4750 2381 4750 \nQ 2619 4750 2861 4703 \nQ 3103 4656 3366 4563 \nz\n\" transform=\"scale(0.015625)\"/>\n       </defs>\n       <use xlink:href=\"#DejaVuSans-36\"/>\n      </g>\n     </g>\n    </g>\n    <g id=\"ytick_4\">\n     <g id=\"line2d_17\">\n      <path d=\"M 40.603125 41.457457 \nL 235.903125 41.457457 \n\" clip-path=\"url(#p63e9408b2e)\" style=\"fill: none; stroke: #b0b0b0; stroke-width: 0.8; stroke-linecap: square\"/>\n     </g>\n     <g id=\"line2d_18\">\n      <g>\n       <use xlink:href=\"#m99b4d28694\" x=\"40.603125\" y=\"41.457457\" style=\"stroke: #000000; stroke-width: 0.8\"/>\n      </g>\n     </g>\n     <g id=\"text_10\">\n      <!-- 8 -->\n      <g transform=\"translate(27.240625 45.256675) scale(0.1 -0.1)\">\n       <defs>\n        <path id=\"DejaVuSans-38\" d=\"M 2034 2216 \nQ 1584 2216 1326 1975 \nQ 1069 1734 1069 1313 \nQ 1069 891 1326 650 \nQ 1584 409 2034 409 \nQ 2484 409 2743 651 \nQ 3003 894 3003 1313 \nQ 3003 1734 2745 1975 \nQ 2488 2216 2034 2216 \nz\nM 1403 2484 \nQ 997 2584 770 2862 \nQ 544 3141 544 3541 \nQ 544 4100 942 4425 \nQ 1341 4750 2034 4750 \nQ 2731 4750 3128 4425 \nQ 3525 4100 3525 3541 \nQ 3525 3141 3298 2862 \nQ 3072 2584 2669 2484 \nQ 3125 2378 3379 2068 \nQ 3634 1759 3634 1313 \nQ 3634 634 3220 271 \nQ 2806 -91 2034 -91 \nQ 1263 -91 848 271 \nQ 434 634 434 1313 \nQ 434 1759 690 2068 \nQ 947 2378 1403 2484 \nz\nM 1172 3481 \nQ 1172 3119 1398 2916 \nQ 1625 2713 2034 2713 \nQ 2441 2713 2670 2916 \nQ 2900 3119 2900 3481 \nQ 2900 3844 2670 4047 \nQ 2441 4250 2034 4250 \nQ 1625 4250 1398 4047 \nQ 1172 3844 1172 3481 \nz\n\" transform=\"scale(0.015625)\"/>\n       </defs>\n       <use xlink:href=\"#DejaVuSans-38\"/>\n      </g>\n     </g>\n    </g>\n    <g id=\"ytick_5\">\n     <g id=\"line2d_19\">\n      <path d=\"M 40.603125 14.623502 \nL 235.903125 14.623502 \n\" clip-path=\"url(#p63e9408b2e)\" style=\"fill: none; stroke: #b0b0b0; stroke-width: 0.8; stroke-linecap: square\"/>\n     </g>\n     <g id=\"line2d_20\">\n      <g>\n       <use xlink:href=\"#m99b4d28694\" x=\"40.603125\" y=\"14.623502\" style=\"stroke: #000000; stroke-width: 0.8\"/>\n      </g>\n     </g>\n     <g id=\"text_11\">\n      <!-- 10 -->\n      <g transform=\"translate(20.878125 18.422721) scale(0.1 -0.1)\">\n       <use xlink:href=\"#DejaVuSans-31\"/>\n       <use xlink:href=\"#DejaVuSans-30\" transform=\"translate(63.623047 0)\"/>\n      </g>\n     </g>\n    </g>\n    <g id=\"text_12\">\n     <!-- loss -->\n     <g transform=\"translate(14.798437 86.157813) rotate(-90) scale(0.1 -0.1)\">\n      <defs>\n       <path id=\"DejaVuSans-6c\" d=\"M 603 4863 \nL 1178 4863 \nL 1178 0 \nL 603 0 \nL 603 4863 \nz\n\" transform=\"scale(0.015625)\"/>\n       <path id=\"DejaVuSans-6f\" d=\"M 1959 3097 \nQ 1497 3097 1228 2736 \nQ 959 2375 959 1747 \nQ 959 1119 1226 758 \nQ 1494 397 1959 397 \nQ 2419 397 2687 759 \nQ 2956 1122 2956 1747 \nQ 2956 2369 2687 2733 \nQ 2419 3097 1959 3097 \nz\nM 1959 3584 \nQ 2709 3584 3137 3096 \nQ 3566 2609 3566 1747 \nQ 3566 888 3137 398 \nQ 2709 -91 1959 -91 \nQ 1206 -91 779 398 \nQ 353 888 353 1747 \nQ 353 2609 779 3096 \nQ 1206 3584 1959 3584 \nz\n\" transform=\"scale(0.015625)\"/>\n      </defs>\n      <use xlink:href=\"#DejaVuSans-6c\"/>\n      <use xlink:href=\"#DejaVuSans-6f\" transform=\"translate(27.783203 0)\"/>\n      <use xlink:href=\"#DejaVuSans-73\" transform=\"translate(88.964844 0)\"/>\n      <use xlink:href=\"#DejaVuSans-73\" transform=\"translate(141.064453 0)\"/>\n     </g>\n    </g>\n   </g>\n   <g id=\"line2d_21\">\n    <path d=\"M 40.603125 13.5 \nL 44.588839 17.404972 \nL 48.574554 22.858989 \nL 52.560268 27.655356 \nL 56.545982 31.595023 \nL 60.531696 34.858238 \nL 64.517411 36.982794 \nL 68.503125 38.84148 \nL 72.488839 39.947722 \nL 76.474554 41.108817 \nL 80.460268 41.95647 \nL 84.445982 42.701259 \nL 88.431696 43.379558 \nL 92.417411 44.013057 \nL 96.403125 44.455905 \nL 100.388839 44.868266 \nL 104.374554 45.198498 \nL 108.360268 45.513781 \nL 112.345982 45.892308 \nL 116.331696 46.210174 \nL 120.317411 46.505096 \nL 124.303125 46.805932 \nL 128.288839 47.098868 \nL 132.274554 47.270314 \nL 136.260268 47.48582 \nL 140.245982 47.728808 \nL 144.231696 47.923822 \nL 148.217411 48.109302 \nL 152.203125 48.239593 \nL 156.188839 48.38553 \nL 160.174554 48.546421 \nL 164.160268 48.704138 \nL 168.145982 48.858313 \nL 172.131696 48.993964 \nL 176.117411 49.131107 \nL 180.103125 49.269653 \nL 184.088839 49.367244 \nL 188.074554 49.500074 \nL 192.060268 49.620057 \nL 196.045982 49.735391 \nL 200.031696 49.852045 \nL 204.017411 49.944522 \nL 208.003125 50.042174 \nL 211.988839 50.139788 \nL 215.974554 50.238436 \nL 219.960268 50.307965 \nL 223.945982 50.384347 \nL 227.931696 50.494361 \nL 231.917411 50.575341 \nL 235.903125 50.64204 \n\" clip-path=\"url(#p63e9408b2e)\" style=\"fill: none; stroke: #1f77b4; stroke-width: 1.5; stroke-linecap: square\"/>\n   </g>\n   <g id=\"line2d_22\">\n    <path d=\"M 40.603125 139.5 \nL 44.588839 132.42176 \nL 48.574554 125.854309 \nL 52.560268 127.03484 \nL 56.545982 129.528655 \nL 60.531696 130.796673 \nL 64.517411 131.973935 \nL 68.503125 132.869671 \nL 72.488839 133.502309 \nL 76.474554 134.072621 \nL 80.460268 134.53608 \nL 84.445982 134.867699 \nL 88.431696 135.222624 \nL 92.417411 135.510404 \nL 96.403125 135.763003 \nL 100.388839 135.985732 \nL 104.374554 136.184404 \nL 108.360268 136.363152 \nL 112.345982 136.506654 \nL 116.331696 136.653463 \nL 120.317411 136.788716 \nL 124.303125 136.893022 \nL 128.288839 136.993264 \nL 132.274554 137.095175 \nL 136.260268 137.17787 \nL 140.245982 137.258214 \nL 144.231696 137.339059 \nL 148.217411 137.414256 \nL 152.203125 137.480133 \nL 156.188839 137.534168 \nL 160.174554 137.595684 \nL 164.160268 137.652353 \nL 168.145982 137.706781 \nL 172.131696 137.757976 \nL 176.117411 137.80833 \nL 180.103125 137.855087 \nL 184.088839 137.897857 \nL 188.074554 137.940157 \nL 192.060268 137.98043 \nL 196.045982 138.016999 \nL 200.031696 138.053103 \nL 204.017411 138.088401 \nL 208.003125 138.121102 \nL 211.988839 138.152262 \nL 215.974554 138.182072 \nL 219.960268 138.210156 \nL 223.945982 138.237139 \nL 227.931696 138.262153 \nL 231.917411 138.28649 \nL 235.903125 138.308594 \n\" clip-path=\"url(#p63e9408b2e)\" style=\"fill: none; stroke-dasharray: 5.55,2.4; stroke-dashoffset: 0; stroke: #bf00bf; stroke-width: 1.5\"/>\n   </g>\n   <g id=\"patch_3\">\n    <path d=\"M 40.603125 145.8 \nL 40.603125 7.2 \n\" style=\"fill: none; stroke: #000000; stroke-width: 0.8; stroke-linejoin: miter; stroke-linecap: square\"/>\n   </g>\n   <g id=\"patch_4\">\n    <path d=\"M 235.903125 145.8 \nL 235.903125 7.2 \n\" style=\"fill: none; stroke: #000000; stroke-width: 0.8; stroke-linejoin: miter; stroke-linecap: square\"/>\n   </g>\n   <g id=\"patch_5\">\n    <path d=\"M 40.603125 145.8 \nL 235.903125 145.8 \n\" style=\"fill: none; stroke: #000000; stroke-width: 0.8; stroke-linejoin: miter; stroke-linecap: square\"/>\n   </g>\n   <g id=\"patch_6\">\n    <path d=\"M 40.603125 7.2 \nL 235.903125 7.2 \n\" style=\"fill: none; stroke: #000000; stroke-width: 0.8; stroke-linejoin: miter; stroke-linecap: square\"/>\n   </g>\n   <g id=\"legend_1\">\n    <g id=\"patch_7\">\n     <path d=\"M 174.64375 44.55625 \nL 228.903125 44.55625 \nQ 230.903125 44.55625 230.903125 42.55625 \nL 230.903125 14.2 \nQ 230.903125 12.2 228.903125 12.2 \nL 174.64375 12.2 \nQ 172.64375 12.2 172.64375 14.2 \nL 172.64375 42.55625 \nQ 172.64375 44.55625 174.64375 44.55625 \nz\n\" style=\"fill: #ffffff; opacity: 0.8; stroke: #cccccc; stroke-linejoin: miter\"/>\n    </g>\n    <g id=\"line2d_23\">\n     <path d=\"M 176.64375 20.298438 \nL 186.64375 20.298438 \nL 196.64375 20.298438 \n\" style=\"fill: none; stroke: #1f77b4; stroke-width: 1.5; stroke-linecap: square\"/>\n    </g>\n    <g id=\"text_13\">\n     <!-- mlm -->\n     <g transform=\"translate(204.64375 23.798438) scale(0.1 -0.1)\">\n      <defs>\n       <path id=\"DejaVuSans-6d\" d=\"M 3328 2828 \nQ 3544 3216 3844 3400 \nQ 4144 3584 4550 3584 \nQ 5097 3584 5394 3201 \nQ 5691 2819 5691 2113 \nL 5691 0 \nL 5113 0 \nL 5113 2094 \nQ 5113 2597 4934 2840 \nQ 4756 3084 4391 3084 \nQ 3944 3084 3684 2787 \nQ 3425 2491 3425 1978 \nL 3425 0 \nL 2847 0 \nL 2847 2094 \nQ 2847 2600 2669 2842 \nQ 2491 3084 2119 3084 \nQ 1678 3084 1418 2786 \nQ 1159 2488 1159 1978 \nL 1159 0 \nL 581 0 \nL 581 3500 \nL 1159 3500 \nL 1159 2956 \nQ 1356 3278 1631 3431 \nQ 1906 3584 2284 3584 \nQ 2666 3584 2933 3390 \nQ 3200 3197 3328 2828 \nz\n\" transform=\"scale(0.015625)\"/>\n      </defs>\n      <use xlink:href=\"#DejaVuSans-6d\"/>\n      <use xlink:href=\"#DejaVuSans-6c\" transform=\"translate(97.412109 0)\"/>\n      <use xlink:href=\"#DejaVuSans-6d\" transform=\"translate(125.195312 0)\"/>\n     </g>\n    </g>\n    <g id=\"line2d_24\">\n     <path d=\"M 176.64375 34.976562 \nL 186.64375 34.976562 \nL 196.64375 34.976562 \n\" style=\"fill: none; stroke-dasharray: 5.55,2.4; stroke-dashoffset: 0; stroke: #bf00bf; stroke-width: 1.5\"/>\n    </g>\n    <g id=\"text_14\">\n     <!-- nsp -->\n     <g transform=\"translate(204.64375 38.476562) scale(0.1 -0.1)\">\n      <defs>\n       <path id=\"DejaVuSans-6e\" d=\"M 3513 2113 \nL 3513 0 \nL 2938 0 \nL 2938 2094 \nQ 2938 2591 2744 2837 \nQ 2550 3084 2163 3084 \nQ 1697 3084 1428 2787 \nQ 1159 2491 1159 1978 \nL 1159 0 \nL 581 0 \nL 581 3500 \nL 1159 3500 \nL 1159 2956 \nQ 1366 3272 1645 3428 \nQ 1925 3584 2291 3584 \nQ 2894 3584 3203 3211 \nQ 3513 2838 3513 2113 \nz\n\" transform=\"scale(0.015625)\"/>\n      </defs>\n      <use xlink:href=\"#DejaVuSans-6e\"/>\n      <use xlink:href=\"#DejaVuSans-73\" transform=\"translate(63.378906 0)\"/>\n      <use xlink:href=\"#DejaVuSans-70\" transform=\"translate(115.478516 0)\"/>\n     </g>\n    </g>\n   </g>\n  </g>\n </g>\n <defs>\n  <clipPath id=\"p63e9408b2e\">\n   <rect x=\"40.603125\" y=\"7.2\" width=\"195.3\" height=\"138.6\"/>\n  </clipPath>\n </defs>\n</svg>\n"
          },
          "metadata": {}
        }
      ],
      "source": [
        "train_bert(train_iter, net, loss, len(vocab), devices, 50)"
      ]
    },
    {
      "cell_type": "markdown",
      "id": "ede604ea",
      "metadata": {
        "origin_pos": 21,
        "id": "ede604ea"
      },
      "source": [
        "## 用BERT表示文本\n",
        "\n",
        "在预训练BERT之后，我们可以用它来表示单个文本、文本对或其中的任何词元。下面的函数返回`tokens_a`和`tokens_b`中所有词元的BERT（`net`）表示。\n"
      ]
    },
    {
      "cell_type": "code",
      "execution_count": 11,
      "id": "77f3b8e4",
      "metadata": {
        "execution": {
          "iopub.execute_input": "2023-08-18T07:05:00.663916Z",
          "iopub.status.busy": "2023-08-18T07:05:00.663281Z",
          "iopub.status.idle": "2023-08-18T07:05:00.669609Z",
          "shell.execute_reply": "2023-08-18T07:05:00.668549Z"
        },
        "origin_pos": 23,
        "tab": [
          "pytorch"
        ],
        "id": "77f3b8e4"
      },
      "outputs": [],
      "source": [
        "def get_bert_encoding(net, tokens_a, tokens_b=None):\n",
        "    tokens, segments = d2l.get_tokens_and_segments(tokens_a, tokens_b)\n",
        "    # unsqueze作用就是在增加一个维度在前面 tokenids就变成(1,seq_lenth)\n",
        "    token_ids = torch.tensor(vocab[tokens], device=devices[0]).unsqueeze(0)\n",
        "    segments = torch.tensor(segments, device=devices[0]).unsqueeze(0)\n",
        "    valid_len = torch.tensor(len(tokens), device=devices[0]).unsqueeze(0)\n",
        "    encoded_X, _, _ = net(token_ids, segments, valid_len)\n",
        "    return encoded_X"
      ]
    },
    {
      "cell_type": "markdown",
      "id": "25e0697e",
      "metadata": {
        "origin_pos": 25,
        "id": "25e0697e"
      },
      "source": [
        "考虑“a crane is flying”这句话。回想一下 :numref:`subsec_bert_input_rep`中讨论的BERT的输入表示。插入特殊标记“&lt;cls&gt;”（用于分类）和“&lt;sep&gt;”（用于分隔）后，BERT输入序列的长度为6。因为零是“&lt;cls&gt;”词元，`encoded_text[:, 0, :]`是整个输入语句的BERT表示。为了评估一词多义词元“crane”，我们还打印出了该词元的BERT表示的前三个元素。\n"
      ]
    },
    {
      "cell_type": "code",
      "execution_count": 12,
      "id": "1081fda9",
      "metadata": {
        "execution": {
          "iopub.execute_input": "2023-08-18T07:05:00.673428Z",
          "iopub.status.busy": "2023-08-18T07:05:00.672675Z",
          "iopub.status.idle": "2023-08-18T07:05:00.690133Z",
          "shell.execute_reply": "2023-08-18T07:05:00.689347Z"
        },
        "origin_pos": 26,
        "tab": [
          "pytorch"
        ],
        "id": "1081fda9",
        "outputId": "5fefe60a-0419-4826-a33c-345b0de13164",
        "colab": {
          "base_uri": "https://localhost:8080/"
        }
      },
      "outputs": [
        {
          "output_type": "execute_result",
          "data": {
            "text/plain": [
              "(torch.Size([1, 6, 128]),\n",
              " torch.Size([1, 128]),\n",
              " tensor([0.0708, 0.0423, 0.6039], device='cuda:0', grad_fn=<SliceBackward0>))"
            ]
          },
          "metadata": {},
          "execution_count": 12
        }
      ],
      "source": [
        "tokens_a = ['a', 'crane', 'is', 'flying']\n",
        "encoded_text = get_bert_encoding(net, tokens_a)\n",
        "# 词元：'<cls>','a','crane','is','flying','<sep>'\n",
        "encoded_text_cls = encoded_text[:, 0, :]\n",
        "encoded_text_crane = encoded_text[:, 2, :]\n",
        "# encoded_text(batchsize,seq_len(包含特殊字符),词向量维度)\n",
        "encoded_text.shape, encoded_text_cls.shape, encoded_text_crane[0][:3]"
      ]
    },
    {
      "cell_type": "code",
      "source": [
        "encoded_text_crane[0].shape"
      ],
      "metadata": {
        "id": "fivoxhFJIOwY",
        "outputId": "69cbde9f-6bb8-47ae-e872-91d7263258bd",
        "colab": {
          "base_uri": "https://localhost:8080/"
        }
      },
      "id": "fivoxhFJIOwY",
      "execution_count": 14,
      "outputs": [
        {
          "output_type": "execute_result",
          "data": {
            "text/plain": [
              "torch.Size([128])"
            ]
          },
          "metadata": {},
          "execution_count": 14
        }
      ]
    },
    {
      "cell_type": "markdown",
      "id": "203ca198",
      "metadata": {
        "origin_pos": 27,
        "id": "203ca198"
      },
      "source": [
        "现在考虑一个句子“a crane driver came”和“he just left”。类似地，`encoded_pair[:, 0, :]`是来自预训练BERT的整个句子对的编码结果。注意，多义词元“crane”的前三个元素与上下文不同时的元素不同。这支持了BERT表示是上下文敏感的。\n"
      ]
    },
    {
      "cell_type": "code",
      "execution_count": 15,
      "id": "960c3aa2",
      "metadata": {
        "execution": {
          "iopub.execute_input": "2023-08-18T07:05:00.694637Z",
          "iopub.status.busy": "2023-08-18T07:05:00.694061Z",
          "iopub.status.idle": "2023-08-18T07:05:00.708881Z",
          "shell.execute_reply": "2023-08-18T07:05:00.707778Z"
        },
        "origin_pos": 28,
        "tab": [
          "pytorch"
        ],
        "id": "960c3aa2",
        "outputId": "5c8d6570-8568-41be-affa-58ec415d7f44",
        "colab": {
          "base_uri": "https://localhost:8080/"
        }
      },
      "outputs": [
        {
          "output_type": "execute_result",
          "data": {
            "text/plain": [
              "(torch.Size([1, 10, 128]),\n",
              " torch.Size([1, 128]),\n",
              " tensor([0.5715, 0.0559, 0.0055], device='cuda:0', grad_fn=<SliceBackward0>))"
            ]
          },
          "metadata": {},
          "execution_count": 15
        }
      ],
      "source": [
        "tokens_a, tokens_b = ['a', 'crane', 'driver', 'came'], ['he', 'just', 'left']\n",
        "encoded_pair = get_bert_encoding(net, tokens_a, tokens_b)\n",
        "# 词元：'<cls>','a','crane','driver','came','<sep>','he','just',\n",
        "# 'left','<sep>'\n",
        "encoded_pair_cls = encoded_pair[:, 0, :]\n",
        "encoded_pair_crane = encoded_pair[:, 2, :]\n",
        "encoded_pair.shape, encoded_pair_cls.shape, encoded_pair_crane[0][:3]"
      ]
    },
    {
      "cell_type": "markdown",
      "id": "d642486c",
      "metadata": {
        "origin_pos": 29,
        "id": "d642486c"
      },
      "source": [
        "在 :numref:`chap_nlp_app`中，我们将为下游自然语言处理应用微调预训练的BERT模型。\n",
        "\n",
        "## 小结\n",
        "\n",
        "* 原始的BERT有两个版本，其中基本模型有1.1亿个参数，大模型有3.4亿个参数。\n",
        "* 在预训练BERT之后，我们可以用它来表示单个文本、文本对或其中的任何词元。\n",
        "* 在实验中，同一个词元在不同的上下文中具有不同的BERT表示。这支持BERT表示是上下文敏感的。\n",
        "\n",
        "## 练习\n",
        "\n",
        "1. 在实验中，我们可以看到遮蔽语言模型损失明显高于下一句预测损失。为什么？\n",
        "2. 将BERT输入序列的最大长度设置为512（与原始BERT模型相同）。使用原始BERT模型的配置，如$\\text{BERT}_{\\text{LARGE}}$。运行此部分时是否遇到错误？为什么？\n"
      ]
    },
    {
      "cell_type": "markdown",
      "id": "9f6249ab",
      "metadata": {
        "origin_pos": 31,
        "tab": [
          "pytorch"
        ],
        "id": "9f6249ab"
      },
      "source": [
        "[Discussions](https://discuss.d2l.ai/t/5743)\n"
      ]
    }
  ],
  "metadata": {
    "accelerator": "GPU",
    "kernelspec": {
      "display_name": "Python 3",
      "name": "python3"
    },
    "language_info": {
      "name": "python"
    },
    "required_libs": [],
    "colab": {
      "provenance": []
    }
  },
  "nbformat": 4,
  "nbformat_minor": 5
}